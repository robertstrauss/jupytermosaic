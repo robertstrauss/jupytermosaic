{
 "cells": [
  {
   "cell_type": "code",
   "execution_count": 4,
   "metadata": {
    "mosaic": [
     "0",
     "0"
    ],
    "scrolled": true
   },
   "outputs": [],
   "source": [
    "import numpy as np\n",
    "import matplotlib.pyplot as plt"
   ]
  },
  {
   "cell_type": "code",
   "execution_count": 51,
   "metadata": {
    "mosaic": [
     "0",
     "0",
     "0"
    ]
   },
   "outputs": [],
   "source": [
    "m = 2.578"
   ]
  },
  {
   "cell_type": "code",
   "execution_count": 52,
   "metadata": {
    "mosaic": [
     "0",
     "0",
     "0",
     "0"
    ]
   },
   "outputs": [],
   "source": [
    "def Q():\n",
    "    print('q!')\n",
    "    return"
   ]
  },
  {
   "cell_type": "code",
   "execution_count": 53,
   "metadata": {
    "mosaic": [
     "0",
     "0",
     "0",
     "0"
    ]
   },
   "outputs": [],
   "source": [
    "P = 17/2"
   ]
  },
  {
   "cell_type": "markdown",
   "metadata": {
    "mosaic": [
     "0",
     "0",
     "0"
    ]
   },
   "source": [
    "### a cell showing the global variables can be tiled with other cells, rather than on its own line\n",
    "\n",
    "\n",
    "================>"
   ]
  },
  {
   "cell_type": "code",
   "execution_count": 55,
   "metadata": {
    "mosaic": [
     "0",
     "1"
    ]
   },
   "outputs": [
    {
     "name": "stdout",
     "output_type": "stream",
     "text": [
      "Variable     Type        Data/Info\n",
      "----------------------------------\n",
      "P            float       8.5\n",
      "Q            function    <function Q at 0x7f8afecfd430>\n",
      "a            int         5\n",
      "b            int         4\n",
      "bool250      tuple       n=2\n",
      "bool2500     ndarray     50x50: 2500 elems, type `float64`, 20000 bytes\n",
      "bool250000   ndarray     500x500: 250000 elems, type `float64`, 2000000 bytes (1.9073486328125 Mb)\n",
      "m            float       2.578\n",
      "np           module      <module 'numpy' from '/ho<...>kages/numpy/__init__.py'>\n",
      "numpy        module      <module 'numpy' from '/ho<...>kages/numpy/__init__.py'>\n",
      "o            bool        True\n",
      "plt          module      <module 'matplotlib.pyplo<...>es/matplotlib/pyplot.py'>\n",
      "rand250      ndarray     50x50: 2500 elems, type `float64`, 20000 bytes\n",
      "rand2500     ndarray     50x50: 2500 elems, type `float64`, 20000 bytes\n",
      "rand250000   ndarray     500x500: 250000 elems, type `float64`, 2000000 bytes (1.9073486328125 Mb)\n",
      "sin100       ndarray     100: 100 elems, type `float64`, 800 bytes\n",
      "sin2500      ndarray     50x50: 2500 elems, type `float64`, 20000 bytes\n",
      "thing        str         some string\n",
      "x100         ndarray     100: 100 elems, type `int64`, 800 bytes\n"
     ]
    }
   ],
   "source": [
    "whos"
   ]
  },
  {
   "cell_type": "markdown",
   "metadata": {
    "mosaic": []
   },
   "source": [
    "# normal, whole-width cells can be used to divide sections"
   ]
  },
  {
   "cell_type": "code",
   "execution_count": 36,
   "metadata": {
    "mosaic": [
     "1"
    ]
   },
   "outputs": [
    {
     "data": {
      "image/png": "[encoded data removed]",
      "text/plain": [
       "<Figure size 432x288 with 1 Axes>"
      ]
     },
     "metadata": {
      "needs_background": "light"
     },
     "output_type": "display_data"
    }
   ],
   "source": [
    "x100 = np.arange(100)\n",
    "sin100 = np.sin(x100/10)\n",
    "plt.figure()\n",
    "plt.plot(x100, sin100)\n",
    "plt.show()"
   ]
  },
  {
   "cell_type": "code",
   "execution_count": 2,
   "metadata": {
    "mosaic": [
     "1",
     "0"
    ]
   },
   "outputs": [],
   "source": [
    "a=5"
   ]
  },
  {
   "cell_type": "markdown",
   "metadata": {
    "mosaic": [
     "1",
     "0"
    ]
   },
   "source": [
    "## Equations can be put right beside what they apply to, making the code easier to understand\n",
    "\n",
    "$ L = \\int_{-\\infty}^{2\\pi} P(x)*\\frac{x^3-x^2}{ln(x)} dx $"
   ]
  },
  {
   "cell_type": "code",
   "execution_count": 9,
   "metadata": {
    "mosaic": [
     "1",
     "0"
    ]
   },
   "outputs": [],
   "source": [
    "b=4"
   ]
  },
  {
   "cell_type": "markdown",
   "metadata": {
    "mosaic": [
     "1",
     "1"
    ]
   },
   "source": [
    "# markdown can be placed anywhere, meaning peices of documentation can be side by side with code"
   ]
  },
  {
   "cell_type": "code",
   "execution_count": 2,
   "metadata": {
    "mosaic": [
     "1",
     "1"
    ],
    "scrolled": true
   },
   "outputs": [
    {
     "data": {
      "text/plain": [
       "3"
      ]
     },
     "execution_count": 2,
     "metadata": {},
     "output_type": "execute_result"
    }
   ],
   "source": [
    "3"
   ]
  },
  {
   "cell_type": "markdown",
   "metadata": {
    "mosaic": []
   },
   "source": [
    "## cells showing related outputs could be placed side-by-side for easy comparison"
   ]
  },
  {
   "cell_type": "code",
   "execution_count": 7,
   "metadata": {
    "mosaic": [
     "2"
    ]
   },
   "outputs": [
    {
     "data": {
      "text/plain": [
       "<matplotlib.image.AxesImage at 0x7f56972433d0>"
      ]
     },
     "execution_count": 7,
     "metadata": {},
     "output_type": "execute_result"
    },
    {
     "data": {
      "image/png": "[encoded data removed]",
      "text/plain": [
       "<Figure size 432x288 with 1 Axes>"
      ]
     },
     "metadata": {
      "needs_background": "light"
     },
     "output_type": "display_data"
    }
   ],
   "source": [
    "rand2500 = np.random.rand(50, 50)\n",
    "plt.figure()\n",
    "plt.imshow(rand2500)"
   ]
  },
  {
   "cell_type": "code",
   "execution_count": 6,
   "metadata": {
    "mosaic": [
     "2"
    ]
   },
   "outputs": [
    {
     "data": {
      "text/plain": [
       "<matplotlib.image.AxesImage at 0x7f56972b99a0>"
      ]
     },
     "execution_count": 6,
     "metadata": {},
     "output_type": "execute_result"
    },
    {
     "data": {
      "image/png": "[encoded data removed]",
      "text/plain": [
       "<Figure size 432x288 with 1 Axes>"
      ]
     },
     "metadata": {
      "needs_background": "light"
     },
     "output_type": "display_data"
    }
   ],
   "source": [
    "sin2500 = np.sin(rand2500)**2\n",
    "plt.figure()\n",
    "plt.imshow(sin2500)"
   ]
  },
  {
   "cell_type": "markdown",
   "metadata": {
    "mosaic": [
     "2"
    ]
   },
   "source": [
    "## an explanation of what this shows could be in the same row"
   ]
  }
 ],
 "metadata": {
  "kernelspec": {
   "display_name": "Python 3",
   "language": "python",
   "name": "python3"
  },
  "language_info": {
   "codemirror_mode": {
    "name": "ipython",
    "version": 3
   },
   "file_extension": ".py",
   "mimetype": "text/x-python",
   "name": "python",
   "nbconvert_exporter": "python",
   "pygments_lexer": "ipython3",
   "version": "3.9.1"
  }
 },
 "nbformat": 4,
 "nbformat_minor": 4
}
